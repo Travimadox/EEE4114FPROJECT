{
  "cells": [
    {
      "cell_type": "code",
      "execution_count": null,
      "metadata": {
        "id": "xCE_P-ATf0aO"
      },
      "outputs": [],
      "source": [
        "import tempfile\n",
        "import os\n",
        "from pydub import AudioSegment\n",
        "\n",
        "def compress_mp3_return_wav(original_audio_file, bitrate=\"128k\"):\n",
        "    audio = AudioSegment.from_file(original_audio_file, format=\"wav\")\n",
        "\n",
        "    # Temporary MP3 Conversion\n",
        "    with tempfile.NamedTemporaryFile(suffix='.mp3') as temp_mp3:\n",
        "        audio.export(temp_mp3.name, format=\"mp3\", bitrate=bitrate)\n",
        "\n",
        "        # Load back from the temporary MP3 file\n",
        "        temp_audio = AudioSegment.from_mp3(temp_mp3.name)\n",
        "\n",
        "        # Construct the output WAV filename\n",
        "        original_filename = os.path.splitext(os.path.basename(original_audio_file))[0]\n",
        "        output_folder = \"BongoCompressed\" + bitrate  # Dynamic output folder\n",
        "        output_wav_filename = os.path.join(output_folder, original_filename + \".wav\")\n",
        "\n",
        "        # Create the output folder if it doesn't exist\n",
        "        os.makedirs(output_folder, exist_ok=True)\n",
        "\n",
        "        # Export and save as WAV\n",
        "        temp_audio.export(output_wav_filename, format=\"wav\")\n",
        "\n",
        "\n",
        "\n"
      ]
    },
    {
      "cell_type": "code",
      "execution_count": null,
      "metadata": {
        "id": "j8AI516_g3Rt"
      },
      "outputs": [],
      "source": [
        "# Main Processing Logic\n",
        "audio_folder = \"Bongo\"\n",
        "bitrates = [\"64k\", \"128k\", \"256k\"]\n",
        "\n",
        "for filename in os.listdir(audio_folder):\n",
        "    if filename.endswith(\".wav\"):\n",
        "        filepath = os.path.join(audio_folder, filename)\n",
        "        for bitrate in bitrates:\n",
        "            compress_mp3_return_wav(filepath, bitrate)"
      ]
    },
    {
      "cell_type": "code",
      "execution_count": null,
      "metadata": {
        "id": "Z_uj5XOshrXS"
      },
      "outputs": [],
      "source": [
        "import tempfile\n",
        "import os\n",
        "from pydub import AudioSegment\n",
        "\n",
        "def compress_mp3_return_wav(original_audio_file, bitrate=\"128k\"):\n",
        "    audio = AudioSegment.from_file(original_audio_file, format=\"wav\")\n",
        "\n",
        "    # Temporary MP3 Conversion\n",
        "    with tempfile.NamedTemporaryFile(suffix='.mp3') as temp_mp3:\n",
        "        audio.export(temp_mp3.name, format=\"mp3\", bitrate=bitrate)\n",
        "\n",
        "        # Load back from the temporary MP3 file\n",
        "        temp_audio = AudioSegment.from_mp3(temp_mp3.name)\n",
        "\n",
        "        # Construct the output WAV filename\n",
        "        original_filename = os.path.splitext(os.path.basename(original_audio_file))[0]\n",
        "        output_folder = \"AmapianoCompressed\" + bitrate  # Dynamic output folder\n",
        "        output_wav_filename = os.path.join(output_folder, original_filename + \".wav\")\n",
        "\n",
        "        # Create the output folder if it doesn't exist\n",
        "        os.makedirs(output_folder, exist_ok=True)\n",
        "\n",
        "        # Export and save as WAV\n",
        "        temp_audio.export(output_wav_filename, format=\"wav\")\n"
      ]
    },
    {
      "cell_type": "code",
      "execution_count": null,
      "metadata": {
        "id": "AGQY3ACghzEG"
      },
      "outputs": [],
      "source": [
        "# Main Processing Logic\n",
        "audio_folder = \"Amapiano\"\n",
        "bitrates = [\"64k\", \"128k\", \"256k\"]\n",
        "\n",
        "for filename in os.listdir(audio_folder):\n",
        "    if filename.endswith(\".wav\"):\n",
        "        filepath = os.path.join(audio_folder, filename)\n",
        "        for bitrate in bitrates:\n",
        "            compress_mp3_return_wav(filepath, bitrate)"
      ]
    },
    {
      "cell_type": "code",
      "execution_count": null,
      "metadata": {
        "colab": {
          "base_uri": "https://localhost:8080/"
        },
        "id": "04ad7OTKrozP",
        "outputId": "e70c92e6-9f64-46f5-9f2e-74b02c3c0283"
      },
      "outputs": [],
      "source": [
        "from google.colab import drive\n",
        "drive.mount('/content/drive')"
      ]
    },
    {
      "cell_type": "code",
      "execution_count": null,
      "metadata": {
        "colab": {
          "base_uri": "https://localhost:8080/",
          "height": 139
        },
        "id": "T821SKGSr15O",
        "outputId": "050f5dfc-d464-4c96-f3ec-5c57f90e2262"
      },
      "outputs": [],
      "source": [
        "from google.colab import files\n",
        "\n",
        "!zip -r bongo64.zip BongoCompressed64k/\n",
        "\n",
        "files.download('bongo64.zip')"
      ]
    },
    {
      "cell_type": "code",
      "execution_count": null,
      "metadata": {
        "colab": {
          "base_uri": "https://localhost:8080/",
          "height": 139
        },
        "id": "TVyjL4ZvsUig",
        "outputId": "fed9281f-a20c-4da4-de7c-ca86ad660b24"
      },
      "outputs": [],
      "source": [
        "from google.colab import files\n",
        "\n",
        "!zip -r bongo128.zip BongoCompressed128k/\n",
        "\n",
        "files.download('bongo128.zip')"
      ]
    },
    {
      "cell_type": "code",
      "execution_count": null,
      "metadata": {
        "colab": {
          "base_uri": "https://localhost:8080/",
          "height": 139
        },
        "id": "pFFQw1nAstRo",
        "outputId": "39e648b7-9ceb-4792-bc6b-1f129a9b5e83"
      },
      "outputs": [],
      "source": [
        "from google.colab import files\n",
        "\n",
        "!zip -r bongo256.zip BongoCompressed256k/\n",
        "\n",
        "files.download('bongo256.zip')"
      ]
    },
    {
      "cell_type": "code",
      "execution_count": null,
      "metadata": {
        "colab": {
          "base_uri": "https://localhost:8080/",
          "height": 139
        },
        "id": "MPnALVpwtBnl",
        "outputId": "cd5cc1d8-3f77-4e8c-e9c1-ca62483638f6"
      },
      "outputs": [],
      "source": [
        "from google.colab import files\n",
        "\n",
        "!zip -r amapiano64.zip AmapianoCompressed64k/\n",
        "\n",
        "files.download('amapiano64.zip')"
      ]
    },
    {
      "cell_type": "code",
      "execution_count": null,
      "metadata": {
        "colab": {
          "base_uri": "https://localhost:8080/",
          "height": 139
        },
        "id": "sQbaDlwntNBE",
        "outputId": "0eff98e2-4a67-4ce0-e2c2-caa922683199"
      },
      "outputs": [],
      "source": [
        "from google.colab import files\n",
        "\n",
        "!zip -r amapiano128.zip AmapianoCompressed128k/\n",
        "\n",
        "files.download('amapiano128.zip')"
      ]
    },
    {
      "cell_type": "code",
      "execution_count": null,
      "metadata": {
        "colab": {
          "base_uri": "https://localhost:8080/",
          "height": 139
        },
        "id": "mBjjU-42tb4r",
        "outputId": "88ccd790-4ba3-4a5d-c023-5e0bad6c4d22"
      },
      "outputs": [],
      "source": [
        "from google.colab import files\n",
        "\n",
        "!zip -r amapiano256.zip AmapianoCompressed256k/\n",
        "\n",
        "files.download('amapiano256.zip')"
      ]
    },
    {
      "cell_type": "code",
      "execution_count": null,
      "metadata": {
        "colab": {
          "base_uri": "https://localhost:8080/",
          "height": 356
        },
        "id": "yZfu3Ml71egT",
        "outputId": "14645d21-2c3e-4288-a355-59be49de3a15"
      },
      "outputs": [],
      "source": [
        "import os\n",
        "import csv\n",
        "import soundfile as sf\n",
        "import numpy as np\n",
        "\n",
        "# Define the directories\n",
        "directories = {\n",
        "    '64': 'BongoCompressed64k',\n",
        "    '128': 'BongoCompressed128k',\n",
        "    '256': 'BongoCompressed256k'\n",
        "}\n",
        "\n",
        "# Open the CSV file\n",
        "with open('Bongoresults.csv', 'w', newline='') as csvfile:\n",
        "    fieldnames = ['filename', 'bitrate', 'snr', 'psnr', 'ssim']\n",
        "    writer = csv.DictWriter(csvfile, fieldnames=fieldnames)\n",
        "\n",
        "    writer.writeheader()\n",
        "\n",
        "    # Loop over the directories\n",
        "    for bitrate, directory in directories.items():\n",
        "        # Get all files in the directory\n",
        "        files = os.listdir(directory)\n",
        "\n",
        "        # Loop over the files\n",
        "        for file in files:\n",
        "            # Read the original and degraded audio files\n",
        "            original_audio, fs = sf.read(f'Bongo/{file}')\n",
        "            degraded_audio, fs = sf.read(f'{directory}/{file}')\n",
        "\n",
        "            # Handle potential multi-channel audio\n",
        "            if len(original_audio.shape) > 1:\n",
        "                original_audio = original_audio[:, 0]  # Use the first channel\n",
        "            if len(degraded_audio.shape) > 1:\n",
        "                degraded_audio = degraded_audio[:, 0]  # Use the first channel\n",
        "\n",
        "            # Calculate metrics\n",
        "            snr_value = snr(original_audio, degraded_audio)\n",
        "            psnr_value = psnr(original_audio, degraded_audio)\n",
        "            ssim_value = ssim(original_audio, degraded_audio)\n",
        "\n",
        "            # Write the results to the CSV file\n",
        "            writer.writerow({\n",
        "                'filename': file,\n",
        "                'bitrate': bitrate,\n",
        "                'snr': snr_value,\n",
        "                'psnr': psnr_value,\n",
        "                'ssim': ssim_value\n",
        "            })"
      ]
    }
  ],
  "metadata": {
    "colab": {
      "provenance": []
    },
    "kernelspec": {
      "display_name": "Python 3",
      "name": "python3"
    },
    "language_info": {
      "name": "python"
    }
  },
  "nbformat": 4,
  "nbformat_minor": 0
}
